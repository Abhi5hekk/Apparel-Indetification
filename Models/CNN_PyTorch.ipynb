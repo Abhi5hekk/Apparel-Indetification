{
  "nbformat": 4,
  "nbformat_minor": 0,
  "metadata": {
    "colab": {
      "name": "CNN PyTorch",
      "provenance": []
    },
    "kernelspec": {
      "name": "python3",
      "display_name": "Python 3"
    },
    "accelerator": "GPU"
  },
  "cells": [
    {
      "cell_type": "code",
      "metadata": {
        "id": "KvOmjifpM1ym",
        "colab_type": "code",
        "colab": {}
      },
      "source": [
        "# importing the libraries\n",
        "import pandas as pd\n",
        "import numpy as np\n",
        "import cv2\n",
        "import matplotlib.pyplot as plt\n",
        "%matplotlib inline\n",
        "\n",
        "from sklearn.model_selection import train_test_split\n",
        "\n",
        "from sklearn.metrics import accuracy_score\n",
        "from tqdm import tqdm\n",
        "\n",
        "import torch\n",
        "from torch.autograd import Variable\n",
        "from torch.nn import Linear, ReLU, CrossEntropyLoss, Sequential, Conv2d, MaxPool2d, Module, Softmax, BatchNorm2d, Dropout\n",
        "from torch.optim import Adam, SGD\n",
        "import os\n",
        "import scipy.io\n",
        "import math"
      ],
      "execution_count": 0,
      "outputs": []
    },
    {
      "cell_type": "code",
      "metadata": {
        "id": "WFKB16MqM-k3",
        "colab_type": "code",
        "outputId": "a3a03575-d13f-4ec8-a896-9898420eb338",
        "colab": {
          "base_uri": "https://localhost:8080/",
          "height": 129
        }
      },
      "source": [
        "from google.colab import drive\n",
        "drive.mount('/content/gdrive')"
      ],
      "execution_count": 0,
      "outputs": [
        {
          "output_type": "stream",
          "text": [
            "Go to this URL in a browser: https://accounts.google.com/o/oauth2/auth?client_id=947318989803-6bn6qk8qdgf4n4g3pfee6491hc0brc4i.apps.googleusercontent.com&redirect_uri=urn%3aietf%3awg%3aoauth%3a2.0%3aoob&response_type=code&scope=email%20https%3a%2f%2fwww.googleapis.com%2fauth%2fdocs.test%20https%3a%2f%2fwww.googleapis.com%2fauth%2fdrive%20https%3a%2f%2fwww.googleapis.com%2fauth%2fdrive.photos.readonly%20https%3a%2f%2fwww.googleapis.com%2fauth%2fpeopleapi.readonly\n",
            "\n",
            "Enter your authorization code:\n",
            "··········\n",
            "Mounted at /content/gdrive\n"
          ],
          "name": "stdout"
        }
      ]
    },
    {
      "cell_type": "code",
      "metadata": {
        "id": "JNsnXlcPQCmJ",
        "colab_type": "code",
        "colab": {}
      },
      "source": [
        "IMG_SIZE = 30\n",
        "NUM_IMAGES = 2000\n",
        "\n",
        "image_path = '/content/gdrive/My Drive/Colab Notebooks/Vernacular/clothing/stanford/images/'\n",
        "label_path = '/content/gdrive/My Drive/Colab Notebooks/Vernacular/clothing/stanford/labels/'\n"
      ],
      "execution_count": 0,
      "outputs": []
    },
    {
      "cell_type": "code",
      "metadata": {
        "id": "RbNerh7HjmMo",
        "colab_type": "code",
        "outputId": "4a9cca69-9d22-44af-e29c-5c219fca1cdc",
        "colab": {
          "base_uri": "https://localhost:8080/",
          "height": 1000
        }
      },
      "source": [
        "loaded_images = []\n",
        "\n",
        "file_num = lambda x: (int(x.split('.')[0]) - 1)\n",
        "\n",
        "files = [f for f in os.listdir(image_path) if os.path.isfile(os.path.join(image_path, f))]\n",
        "files = sorted(files, key=file_num)\n",
        "files = files[:NUM_IMAGES]\n",
        "\n",
        "for i, file in enumerate(files):\n",
        "  loaded_images.append(cv2.imread(os.path.join(image_path, file)))\n",
        "  if i%25==24:\n",
        "    print(\"Loading Image: %s\"%file)"
      ],
      "execution_count": 0,
      "outputs": [
        {
          "output_type": "stream",
          "text": [
            "Loading Image: 000025.jpg\n",
            "Loading Image: 000050.jpg\n",
            "Loading Image: 000075.jpg\n",
            "Loading Image: 000100.jpg\n",
            "Loading Image: 000125.jpg\n",
            "Loading Image: 000150.jpg\n",
            "Loading Image: 000175.jpg\n",
            "Loading Image: 000200.jpg\n",
            "Loading Image: 000225.jpg\n",
            "Loading Image: 000250.jpg\n",
            "Loading Image: 000275.jpg\n",
            "Loading Image: 000300.jpg\n",
            "Loading Image: 000325.jpg\n",
            "Loading Image: 000350.jpg\n",
            "Loading Image: 000375.jpg\n",
            "Loading Image: 000400.jpg\n",
            "Loading Image: 000425.jpg\n",
            "Loading Image: 000450.jpg\n",
            "Loading Image: 000475.jpg\n",
            "Loading Image: 000500.jpg\n",
            "Loading Image: 000525.jpg\n",
            "Loading Image: 000550.jpg\n",
            "Loading Image: 000575.jpg\n",
            "Loading Image: 000600.jpg\n",
            "Loading Image: 000625.jpg\n",
            "Loading Image: 000650.jpg\n",
            "Loading Image: 000675.jpg\n",
            "Loading Image: 000700.jpg\n",
            "Loading Image: 000725.jpg\n",
            "Loading Image: 000750.jpg\n",
            "Loading Image: 000775.jpg\n",
            "Loading Image: 000800.jpg\n",
            "Loading Image: 000825.jpg\n",
            "Loading Image: 000850.jpg\n",
            "Loading Image: 000875.jpg\n",
            "Loading Image: 000900.jpg\n",
            "Loading Image: 000925.jpg\n",
            "Loading Image: 000950.jpg\n",
            "Loading Image: 000975.jpg\n",
            "Loading Image: 001000.jpg\n",
            "Loading Image: 001025.jpg\n",
            "Loading Image: 001050.jpg\n",
            "Loading Image: 001075.jpg\n",
            "Loading Image: 001100.jpg\n",
            "Loading Image: 001125.jpg\n",
            "Loading Image: 001150.jpg\n",
            "Loading Image: 001175.jpg\n",
            "Loading Image: 001200.jpg\n",
            "Loading Image: 001225.jpg\n",
            "Loading Image: 001250.jpg\n",
            "Loading Image: 001275.jpg\n",
            "Loading Image: 001300.jpg\n",
            "Loading Image: 001325.jpg\n",
            "Loading Image: 001350.jpg\n",
            "Loading Image: 001375.jpg\n",
            "Loading Image: 001400.jpg\n",
            "Loading Image: 001425.jpg\n",
            "Loading Image: 001450.jpg\n",
            "Loading Image: 001475.jpg\n",
            "Loading Image: 001500.jpg\n",
            "Loading Image: 001525.jpg\n",
            "Loading Image: 001550.jpg\n",
            "Loading Image: 001575.jpg\n",
            "Loading Image: 001600.jpg\n",
            "Loading Image: 001625.jpg\n",
            "Loading Image: 001650.jpg\n",
            "Loading Image: 001675.jpg\n",
            "Loading Image: 001700.jpg\n",
            "Loading Image: 001725.jpg\n",
            "Loading Image: 001750.jpg\n",
            "Loading Image: 001775.jpg\n",
            "Loading Image: 001800.jpg\n",
            "Loading Image: 001825.jpg\n",
            "Loading Image: 001850.jpg\n"
          ],
          "name": "stdout"
        }
      ]
    },
    {
      "cell_type": "code",
      "metadata": {
        "id": "OB78w3CKkcZp",
        "colab_type": "code",
        "colab": {}
      },
      "source": [
        "labels = scipy.io.loadmat(os.path.join(label_path, 'category_GT.mat'))\n",
        "labels = labels['GT']\n",
        "NUM_OUTPUTS = int(len(np.unique(list(filter(lambda x: not math.isnan(x), [label[0] for label in labels])))))"
      ],
      "execution_count": 0,
      "outputs": []
    },
    {
      "cell_type": "code",
      "metadata": {
        "id": "Gt5CoyAcNkBm",
        "colab_type": "code",
        "outputId": "f067fd90-b0cd-4212-92fd-38fe7abedd4c",
        "colab": {
          "base_uri": "https://localhost:8080/",
          "height": 35
        }
      },
      "source": [
        "X = []\n",
        "Y = []\n",
        "for i, image in enumerate(loaded_images):\n",
        "  label = labels[i][0]\n",
        "  if math.isnan(label):\n",
        "    continue\n",
        "  img = cv2.resize(image, (IMG_SIZE, IMG_SIZE))\n",
        "  img = img.astype('float32')\n",
        "  img = img / 255.0\n",
        "  X.append(img)\n",
        "  Y.append(label)\n",
        "\n",
        "X = np.asarray(X)\n",
        "Y = np.asarray(Y)\n",
        "X.shape, Y.shape"
      ],
      "execution_count": 0,
      "outputs": [
        {
          "output_type": "execute_result",
          "data": {
            "text/plain": [
              "((1104, 64, 64, 3), (1104,))"
            ]
          },
          "metadata": {
            "tags": []
          },
          "execution_count": 6
        }
      ]
    },
    {
      "cell_type": "code",
      "metadata": {
        "id": "3Ma38QmtqXoe",
        "colab_type": "code",
        "colab": {}
      },
      "source": [
        "# from google.colab.patches import cv2_imshow\n",
        "# cv2_imshow(X[1])"
      ],
      "execution_count": 0,
      "outputs": []
    },
    {
      "cell_type": "code",
      "metadata": {
        "id": "maSPe6LgUIkP",
        "colab_type": "code",
        "outputId": "6999ab0c-cdf9-4d06-8833-b9a7990f852a",
        "colab": {
          "base_uri": "https://localhost:8080/",
          "height": 127
        }
      },
      "source": [
        "trainX, test_x, trainY, test_y = train_test_split(X, Y, test_size = 0.1)\n",
        "train_x, val_x, train_y, val_y = train_test_split(trainX, trainY, test_size = 0.2)\n",
        "(train_x.shape, train_y.shape), (val_x.shape, val_y.shape)\n",
        "\n",
        "# train_x = train_x.reshape(train_x.shape[0], train_x.shape[3], IMG_SIZE, IMG_SIZE)\n",
        "train_x  = torch.from_numpy(train_x)\n",
        "train_x = train_x.permute(0,3,1,2)\n",
        "train_y = train_y.astype(int);\n",
        "train_y = torch.from_numpy(train_y)\n",
        "\n",
        "# val_x = val_x.reshape(val_x.shape[0], val_x.shape[3], IMG_SIZE, IMG_SIZE)\n",
        "val_x  = torch.from_numpy(val_x)\n",
        "val_x = val_x.permute(0,3,1,2)\n",
        "val_y = val_y.astype(int);\n",
        "val_y = torch.from_numpy(val_y)\n",
        "train_x.shape, train_y.shape, val_x.shape, val_y.shape\n",
        "\n",
        "# test_x = test_x.reshape(test_x.shape[0], test_x.shape[3], IMG_SIZE, IMG_SIZE)\n",
        "test_x  = torch.from_numpy(test_x)\n",
        "test_x = test_x.permute(0,3,1,2)\n",
        "test_y = test_y.astype(int);\n",
        "test_y = torch.from_numpy(test_y)\n",
        "train_x.shape, train_y.shape, val_x.shape, val_y.shape, test_x.shape, test_y.shape"
      ],
      "execution_count": 0,
      "outputs": [
        {
          "output_type": "execute_result",
          "data": {
            "text/plain": [
              "(torch.Size([794, 3, 64, 64]),\n",
              " torch.Size([794]),\n",
              " torch.Size([199, 3, 64, 64]),\n",
              " torch.Size([199]),\n",
              " torch.Size([111, 3, 64, 64]),\n",
              " torch.Size([111]))"
            ]
          },
          "metadata": {
            "tags": []
          },
          "execution_count": 8
        }
      ]
    },
    {
      "cell_type": "code",
      "metadata": {
        "id": "uPYmRZV1VaOM",
        "colab_type": "code",
        "colab": {}
      },
      "source": [
        "class Net(Module):   \n",
        "    def __init__(self):\n",
        "        super(Net, self).__init__()\n",
        "\n",
        "        self.cnn_layers = Sequential(\n",
        "            # Defining a 2D convolution layer\n",
        "            Conv2d(3, 4, kernel_size=3, stride=1, padding=1),\n",
        "            BatchNorm2d(4),\n",
        "            ReLU(inplace=True),\n",
        "            MaxPool2d(kernel_size=2, stride=2),\n",
        "            # Defining another 2D convolution layer\n",
        "            Conv2d(4, 4, kernel_size=3, stride=1, padding=1),\n",
        "            BatchNorm2d(4),\n",
        "            ReLU(inplace=True),\n",
        "            MaxPool2d(kernel_size=2, stride=2),\n",
        "        )\n",
        "\n",
        "        self.linear_layers = Sequential(\n",
        "            Linear(int(IMG_SIZE * IMG_SIZE / 4), NUM_OUTPUTS)\n",
        "        )\n",
        "\n",
        "    # Defining the forward pass    \n",
        "    def forward(self, x):\n",
        "        x = self.cnn_layers(x)\n",
        "        # x = x.view(x.size(0), -1)\n",
        "        x = x.reshape(x.size(0), -1)\n",
        "        x = self.linear_layers(x)\n",
        "        return x"
      ],
      "execution_count": 0,
      "outputs": []
    },
    {
      "cell_type": "code",
      "metadata": {
        "id": "vKY3ALaUWHPo",
        "colab_type": "code",
        "outputId": "d299a430-034d-48dc-cc51-a3ee5e96ac38",
        "colab": {
          "base_uri": "https://localhost:8080/",
          "height": 293
        }
      },
      "source": [
        "model = Net()\n",
        "optimizer = Adam(model.parameters(), lr=0.07)\n",
        "criterion = CrossEntropyLoss()\n",
        "if torch.cuda.is_available():\n",
        "    model = model.cuda()\n",
        "    criterion = criterion.cuda()\n",
        "    \n",
        "print(model)"
      ],
      "execution_count": 0,
      "outputs": [
        {
          "output_type": "stream",
          "text": [
            "Net(\n",
            "  (cnn_layers): Sequential(\n",
            "    (0): Conv2d(3, 4, kernel_size=(3, 3), stride=(1, 1), padding=(1, 1))\n",
            "    (1): BatchNorm2d(4, eps=1e-05, momentum=0.1, affine=True, track_running_stats=True)\n",
            "    (2): ReLU(inplace=True)\n",
            "    (3): MaxPool2d(kernel_size=2, stride=2, padding=0, dilation=1, ceil_mode=False)\n",
            "    (4): Conv2d(4, 4, kernel_size=(3, 3), stride=(1, 1), padding=(1, 1))\n",
            "    (5): BatchNorm2d(4, eps=1e-05, momentum=0.1, affine=True, track_running_stats=True)\n",
            "    (6): ReLU(inplace=True)\n",
            "    (7): MaxPool2d(kernel_size=2, stride=2, padding=0, dilation=1, ceil_mode=False)\n",
            "  )\n",
            "  (linear_layers): Sequential(\n",
            "    (0): Linear(in_features=1024, out_features=7, bias=True)\n",
            "  )\n",
            ")\n"
          ],
          "name": "stdout"
        }
      ]
    },
    {
      "cell_type": "code",
      "metadata": {
        "id": "lcOPsTHdZogZ",
        "colab_type": "code",
        "outputId": "8af82191-507c-4f34-fc5a-5c973eb9fb05",
        "colab": {
          "base_uri": "https://localhost:8080/",
          "height": 35
        }
      },
      "source": [
        "if torch.cuda.is_available:\n",
        "  print(\"Using CUDA\")"
      ],
      "execution_count": 0,
      "outputs": [
        {
          "output_type": "stream",
          "text": [
            "Using CUDA\n"
          ],
          "name": "stdout"
        }
      ]
    },
    {
      "cell_type": "code",
      "metadata": {
        "id": "SUvv38olWNpO",
        "colab_type": "code",
        "colab": {}
      },
      "source": [
        "def train(epoch):\n",
        "    model.train()\n",
        "    tr_loss = 0\n",
        "    # getting the training set\n",
        "    X_train, Y_train = Variable(train_x), Variable(train_y)\n",
        "    # getting the validation set\n",
        "    X_val, Y_val = Variable(val_x), Variable(val_y)\n",
        "    # converting the data into GPU format\n",
        "    if torch.cuda.is_available():\n",
        "        X_train = X_train.cuda()\n",
        "        Y_train = Y_train.cuda()\n",
        "        X_val = X_val.cuda()\n",
        "        Y_val = Y_val.cuda()\n",
        "\n",
        "    # clearing the Gradients of the model parameters\n",
        "    optimizer.zero_grad()\n",
        "    \n",
        "    # prediction for training and validation set\n",
        "    output_train = model(X_train)\n",
        "    output_val = model(X_val)\n",
        "\n",
        "    # computing the training and validation loss\n",
        "    loss_train = criterion(output_train, Y_train)\n",
        "    loss_val = criterion(output_val, Y_val)\n",
        "    train_losses.append(loss_train)\n",
        "    val_losses.append(loss_val)\n",
        "\n",
        "    # computing the updated weights of all the model parameters\n",
        "    loss_train.backward()\n",
        "    optimizer.step()\n",
        "    tr_loss = loss_train.item()\n",
        "    if epoch%2 == 0:\n",
        "        # printing the validation loss\n",
        "        print('Epoch : ',epoch+1, '\\t', 'loss :', loss_val)"
      ],
      "execution_count": 0,
      "outputs": []
    },
    {
      "cell_type": "code",
      "metadata": {
        "id": "tm4TMRQNWZoO",
        "colab_type": "code",
        "outputId": "cdd2fc4d-be04-4699-f297-4053da4b82b3",
        "colab": {
          "base_uri": "https://localhost:8080/",
          "height": 384
        }
      },
      "source": [
        "n_epochs = 40\n",
        "train_losses = []\n",
        "val_losses = []\n",
        "for epoch in range(n_epochs):\n",
        "    train(epoch)"
      ],
      "execution_count": 0,
      "outputs": [
        {
          "output_type": "stream",
          "text": [
            "Epoch :  1 \t loss : tensor(1.9487, device='cuda:0', grad_fn=<NllLossBackward>)\n",
            "Epoch :  3 \t loss : tensor(41.9701, device='cuda:0', grad_fn=<NllLossBackward>)\n",
            "Epoch :  5 \t loss : tensor(28.1450, device='cuda:0', grad_fn=<NllLossBackward>)\n",
            "Epoch :  7 \t loss : tensor(11.7662, device='cuda:0', grad_fn=<NllLossBackward>)\n",
            "Epoch :  9 \t loss : tensor(3.5279, device='cuda:0', grad_fn=<NllLossBackward>)\n",
            "Epoch :  11 \t loss : tensor(2.0183, device='cuda:0', grad_fn=<NllLossBackward>)\n",
            "Epoch :  13 \t loss : tensor(1.9270, device='cuda:0', grad_fn=<NllLossBackward>)\n",
            "Epoch :  15 \t loss : tensor(1.9085, device='cuda:0', grad_fn=<NllLossBackward>)\n",
            "Epoch :  17 \t loss : tensor(1.8893, device='cuda:0', grad_fn=<NllLossBackward>)\n",
            "Epoch :  19 \t loss : tensor(1.8713, device='cuda:0', grad_fn=<NllLossBackward>)\n",
            "Epoch :  21 \t loss : tensor(1.8555, device='cuda:0', grad_fn=<NllLossBackward>)\n",
            "Epoch :  23 \t loss : tensor(1.8425, device='cuda:0', grad_fn=<NllLossBackward>)\n",
            "Epoch :  25 \t loss : tensor(1.8323, device='cuda:0', grad_fn=<NllLossBackward>)\n",
            "Epoch :  27 \t loss : tensor(1.8247, device='cuda:0', grad_fn=<NllLossBackward>)\n",
            "Epoch :  29 \t loss : tensor(1.8194, device='cuda:0', grad_fn=<NllLossBackward>)\n",
            "Epoch :  31 \t loss : tensor(1.8161, device='cuda:0', grad_fn=<NllLossBackward>)\n",
            "Epoch :  33 \t loss : tensor(1.8143, device='cuda:0', grad_fn=<NllLossBackward>)\n",
            "Epoch :  35 \t loss : tensor(1.8138, device='cuda:0', grad_fn=<NllLossBackward>)\n",
            "Epoch :  37 \t loss : tensor(1.8141, device='cuda:0', grad_fn=<NllLossBackward>)\n",
            "Epoch :  39 \t loss : tensor(1.8150, device='cuda:0', grad_fn=<NllLossBackward>)\n"
          ],
          "name": "stdout"
        }
      ]
    },
    {
      "cell_type": "code",
      "metadata": {
        "id": "074tqOguXGct",
        "colab_type": "code",
        "outputId": "ed1dabb8-b58d-48ae-e956-e790ffc756b1",
        "colab": {
          "base_uri": "https://localhost:8080/",
          "height": 265
        }
      },
      "source": [
        "plt.plot(train_losses, label='Training loss')\n",
        "plt.plot(val_losses, label='Validation loss')\n",
        "plt.legend()\n",
        "plt.show()"
      ],
      "execution_count": 0,
      "outputs": [
        {
          "output_type": "display_data",
          "data": {
            "image/png": "[encoded data removed]",
            "text/plain": [
              "<Figure size 432x288 with 1 Axes>"
            ]
          },
          "metadata": {
            "tags": [],
            "needs_background": "light"
          }
        }
      ]
    },
    {
      "cell_type": "code",
      "metadata": {
        "id": "fn0ccQvTWd92",
        "colab_type": "code",
        "outputId": "4adf58fd-d766-493e-b441-90a3eb037f21",
        "colab": {
          "base_uri": "https://localhost:8080/",
          "height": 35
        }
      },
      "source": [
        "# prediction for training set\n",
        "with torch.no_grad():\n",
        "  if(torch.cuda.is_available):\n",
        "    output = model(train_x.cuda())\n",
        "  else:\n",
        "    output = model(train_x)\n",
        "    \n",
        "softmax = torch.exp(output).cpu()\n",
        "prob = list(softmax.numpy())\n",
        "predictions = np.argmax(prob, axis=1)\n",
        "\n",
        "# accuracy on training set\n",
        "train_sample_accuracy = accuracy_score(train_y, predictions)\n",
        "print(\"Accuracy on In-Sample Training Set: %s\"% train_sample_accuracy)"
      ],
      "execution_count": 0,
      "outputs": [
        {
          "output_type": "stream",
          "text": [
            "Accuracy on In-Sample Training Set: 0.0\n"
          ],
          "name": "stdout"
        }
      ]
    },
    {
      "cell_type": "code",
      "metadata": {
        "id": "n8VcW7riaaNs",
        "colab_type": "code",
        "outputId": "07287a99-f162-4fcb-f9cb-d09f246e78da",
        "colab": {
          "base_uri": "https://localhost:8080/",
          "height": 35
        }
      },
      "source": [
        "# prediction for validation set\n",
        "with torch.no_grad():\n",
        "  if(torch.cuda.is_available):\n",
        "    output = model(val_x.cuda())\n",
        "  else:\n",
        "    output = model(val_x)\n",
        "    \n",
        "softmax = torch.exp(output).cpu()\n",
        "prob = list(softmax.numpy())\n",
        "predictions = np.argmax(prob, axis=1)\n",
        "\n",
        "# accuracy on validation set\n",
        "val_sample_accuracy = accuracy_score(val_y, predictions)\n",
        "print(\"Accuracy on In-Sample Validation Set: %s\"% val_sample_accuracy)\n"
      ],
      "execution_count": 0,
      "outputs": [
        {
          "output_type": "stream",
          "text": [
            "Accuracy on In-Sample Validation Set: 0.0\n"
          ],
          "name": "stdout"
        }
      ]
    },
    {
      "cell_type": "code",
      "metadata": {
        "id": "1vb726ecablR",
        "colab_type": "code",
        "outputId": "246f84b1-e22b-4a32-9ce8-e852eb812b6f",
        "colab": {
          "base_uri": "https://localhost:8080/",
          "height": 35
        }
      },
      "source": [
        "# prediction for out-of-sample set\n",
        "with torch.no_grad():\n",
        "  if(torch.cuda.is_available):\n",
        "    output = model(test_x.cuda())\n",
        "  else:\n",
        "    output = model(test_x)\n",
        "    \n",
        "softmax = torch.exp(output).cpu()\n",
        "prob = list(softmax.numpy())\n",
        "predictions = np.argmax(prob, axis=1)\n",
        "\n",
        "# accuracy on out-of-sample set\n",
        "out_sample_accuracy = accuracy_score(test_y, predictions)\n",
        "print(\"Accuracy on Out-Of-Sample Validation (Test) Set: %s\"% out_sample_accuracy)"
      ],
      "execution_count": 0,
      "outputs": [
        {
          "output_type": "stream",
          "text": [
            "Accuracy on Out-Of-Sample Validation (Test) Set: 0.0\n"
          ],
          "name": "stdout"
        }
      ]
    },
    {
      "cell_type": "code",
      "metadata": {
        "id": "JgpsE9k0bDLV",
        "colab_type": "code",
        "colab": {}
      },
      "source": [
        ""
      ],
      "execution_count": 0,
      "outputs": []
    }
  ]
}